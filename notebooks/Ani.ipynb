{
 "cells": [
  {
   "cell_type": "code",
   "execution_count": 1,
   "id": "1693aee0",
   "metadata": {},
   "outputs": [],
   "source": [
    "import matplotlib.pyplot as plt\n",
    "import numpy as np\n",
    "import math\n",
    "import os\n",
    "import pandas as pd\n",
    "import time\n",
    "import seaborn as sns\n",
    "from sklearn import metrics\n",
    "from sklearn.decomposition import PCA\n",
    "from collections import Counter"
   ]
  },
  {
   "cell_type": "code",
   "execution_count": 25,
   "id": "ef326dd4",
   "metadata": {},
   "outputs": [],
   "source": [
    "datasetPath = 'Diabetes_Data_1999_2008.csv'"
   ]
  },
  {
   "cell_type": "code",
   "execution_count": 26,
   "id": "4a3f2036",
   "metadata": {},
   "outputs": [],
   "source": [
    "data = pd.read_csv(datasetPath)"
   ]
  },
  {
   "cell_type": "markdown",
   "id": "ca23ab8c",
   "metadata": {},
   "source": [
    "## Age"
   ]
  },
  {
   "cell_type": "code",
   "execution_count": 27,
   "id": "047594c5",
   "metadata": {},
   "outputs": [],
   "source": [
    "replaceDict = {'[0-10)' : 5,\n",
    "'[10-20)' : 15,\n",
    "'[20-30)' : 25,\n",
    "'[30-40)' : 35,\n",
    "'[40-50)' : 45,\n",
    "'[50-60)' : 55,\n",
    "'[60-70)' : 65,\n",
    "'[70-80)' : 75,\n",
    "'[80-90)' : 85,\n",
    "'[90-100)' : 95}\n",
    "\n",
    "data['age'] = data['age'].apply(lambda x : replaceDict[x])"
   ]
  },
  {
   "cell_type": "markdown",
   "id": "4fe92c5c",
   "metadata": {},
   "source": [
    "## Patient History"
   ]
  },
  {
   "cell_type": "code",
   "execution_count": 28,
   "id": "884540af",
   "metadata": {},
   "outputs": [],
   "source": [
    "data['prev_visits'] = data.groupby('patient_nbr').encounter_id.transform(lambda x: pd.Series(range(len(x))))"
   ]
  },
  {
   "cell_type": "markdown",
   "id": "4ca21957",
   "metadata": {},
   "source": [
    "## Medical Specialty"
   ]
  },
  {
   "cell_type": "code",
   "execution_count": 29,
   "id": "1b92f8bc",
   "metadata": {},
   "outputs": [],
   "source": [
    "high_frequency = ['InternalMedicine', 'Family/GeneralPractice', 'Cardiology', 'Surgery-General', 'Orthopedics', 'Orthopedics-Reconstructive', 'Emergency/Trauma', 'Urology','ObstetricsandGynecology','Psychiatry','Pulmonology ','Nephrology','Radiologist']\n",
    "low_frequency = ['Surgery-PlasticwithinHeadandNeck','Psychiatry-Addictive','Proctology','Dermatology','SportsMedicine','Speech','Perinatology', 'Neurophysiology','Resident','Pediatrics-Hematology-Oncology','Pediatrics-EmergencyMedicine','Dentistry','DCPTEAM','Psychiatry-Child/Adolescent', 'Pediatrics-Pulmonology','Surgery-Pediatric','AllergyandImmunology','Pediatrics-Neurology','Anesthesiology','Pathology','Cardiology-Pediatric', 'Endocrinology-Metabolism','PhysicianNotFound','Surgery-Colon&Rectal','OutreachServices', 'Surgery-Maxillofacial','Rheumatology','Anesthesiology-Pediatric','Obstetrics','Obsterics&Gynecology-GynecologicOnco']\n",
    "pediatrics = ['Pediatrics','Pediatrics-CriticalCare','Pediatrics-EmergencyMedicine','Pediatrics-Endocrinology','Pediatrics-Hematology-Oncology', 'Pediatrics-Neurology','Pediatrics-Pulmonology', 'Anesthesiology-Pediatric', 'Cardiology-Pediatric', 'Surgery-Pediatric']\n",
    "psychic = ['Psychiatry-Addictive', 'Psychology', 'Psychiatry',  'Psychiatry-Child/Adolescent', 'PhysicalMedicineandRehabilitation', 'Osteopath']\n",
    "neurology = ['Neurology', 'Surgery-Neuro',  'Pediatrics-Neurology', 'Neurophysiology']\n",
    "surgery = ['Surgeon', 'Surgery-Cardiovascular', 'Surgery-Cardiovascular/Thoracic', 'Surgery-Colon&Rectal', 'Surgery-General', 'Surgery-Maxillofacial', 'Surgery-Plastic', 'Surgery-PlasticwithinHeadandNeck',  'Surgery-Thoracic', 'Surgery-Vascular', 'SurgicalSpecialty', 'Podiatry']\n",
    "ungrouped = ['Endocrinology','Gastroenterology','Gynecology','Hematology','Hematology/Oncology','Hospitalist','InfectiousDiseases', 'Oncology','Ophthalmology','Otolaryngology','Pulmonology','Radiology']\n",
    "missing = ['?']\n",
    "\n",
    "def get_specialty_type(specialty):\n",
    "    if specialty in pediatrics : return 'pediatrics'\n",
    "    elif specialty in psychic : return 'psychic'\n",
    "    elif specialty in neurology : return 'neurology'\n",
    "    elif specialty in surgery : return 'surgery'\n",
    "    elif specialty in high_frequency : return 'high_freq'\n",
    "    elif specialty in low_frequency : return 'low_freq'\n",
    "    elif specialty in ungrouped : return 'ungrouped'\n",
    "    elif specialty in missing : return 'missing'\n",
    "\n",
    "data['medical_specialty'] = data['medical_specialty'].apply(get_specialty_type)"
   ]
  },
  {
   "cell_type": "markdown",
   "id": "c7693d0c",
   "metadata": {},
   "source": [
    "## Diagnoses"
   ]
  },
  {
   "cell_type": "code",
   "execution_count": 30,
   "id": "d6055986",
   "metadata": {},
   "outputs": [],
   "source": [
    "def get_diag(diag):\n",
    "    if '?' in diag: return 'unknown'\n",
    "    if 'V' in diag:  return 'health_contact'\n",
    "    if 'E' in diag: return 'injury_poisoning'\n",
    "    diag_no = int(float(diag))\n",
    "    if diag_no in range(0, 140): return 'infectious'\n",
    "    if diag_no in range(140, 240): return 'neoplasms'\n",
    "    if diag_no == 250: return 'diabetes'\n",
    "    if diag_no in range(251, 260): return 'endocrine'\n",
    "    if diag_no in range(240, 280): return 'long_term'\n",
    "    if diag_no in range(280, 290): return 'blood'\n",
    "    if diag_no in range(290, 320): return 'mental'\n",
    "    if diag_no in range(320, 390): return 'nervous'\n",
    "    if diag_no in range(390, 460): return 'respiratory'\n",
    "    if diag_no in range(520, 580): return 'digestive'\n",
    "    if diag_no in range(580, 630): return 'genitourinary'\n",
    "    if diag_no in range(630, 680): return 'birth'\n",
    "    if diag_no in range(680, 710): return 'skin'\n",
    "    if diag_no in range(710, 740): return 'musculoskeletal'\n",
    "    if diag_no in range(740, 760): return 'congenital'\n",
    "    if diag_no in range(760, 780): return 'prenital'\n",
    "    if diag_no in range(780, 800): return 'symptoms'\n",
    "    if diag_no in range(800, 1000): return 'injury_poisoning'\n",
    "    return 'other'"
   ]
  },
  {
   "cell_type": "code",
   "execution_count": 31,
   "id": "56805f9f",
   "metadata": {},
   "outputs": [],
   "source": [
    "data['diagnosis_1'] = data['diag_1'].apply(get_diag)\n",
    "data['diagnosis_2'] = data['diag_2'].apply(get_diag)\n",
    "data['diagnosis_3'] = data['diag_3'].apply(get_diag)"
   ]
  },
  {
   "cell_type": "code",
   "execution_count": 32,
   "id": "fdfd27a7",
   "metadata": {},
   "outputs": [],
   "source": [
    "def get_diabetes_type(diag):\n",
    "    if 'V' in diag or 'E' in diag or '?' in diag: return 'no_diabetes'\n",
    "    diag_float = round(float(diag),1)\n",
    "    if diag_float == 250.0: return 'no_complications'\n",
    "    if diag_float == 250.1: return 'ketoacidosis'\n",
    "    if diag_float == 250.2: return 'hyperosmolarity'\n",
    "    if diag_float == 250.3: return 'other_coma'\n",
    "    if diag_float == 250.4: return 'renal'\n",
    "    if diag_float == 250.5: return 'ophthalmic'\n",
    "    if diag_float == 250.6: return 'nuerological'\n",
    "    if diag_float == 250.7: return 'peripheral'\n",
    "    if diag_float == 250.8: return 'other'\n",
    "    if diag_float == 250.9: return 'unspecificed'\n",
    "    return 'no_diabetes'"
   ]
  },
  {
   "cell_type": "code",
   "execution_count": 33,
   "id": "f194ab3b",
   "metadata": {},
   "outputs": [],
   "source": [
    "data['diabetes_type_1'] = data['diag_1'].apply(get_diabetes_type)\n",
    "data['diabetes_type_2'] = data['diag_2'].apply(get_diabetes_type)\n",
    "data['diabetes_type_3'] = data['diag_3'].apply(get_diabetes_type)"
   ]
  },
  {
   "cell_type": "markdown",
   "id": "52ade573",
   "metadata": {},
   "source": [
    "## Readmitted"
   ]
  },
  {
   "cell_type": "code",
   "execution_count": 34,
   "id": "80e34359",
   "metadata": {},
   "outputs": [],
   "source": [
    "data['readmitted'] = data['readmitted'].apply(lambda x : 0 if (x == '>30' or x == 'NO') else 1)\n",
    "data = data.reset_index()"
   ]
  },
  {
   "cell_type": "markdown",
   "id": "a31c3fe9",
   "metadata": {},
   "source": [
    "## Treatments and Tests"
   ]
  },
  {
   "cell_type": "code",
   "execution_count": 35,
   "id": "7a5bcdb6",
   "metadata": {},
   "outputs": [],
   "source": [
    "def get_medicine(m):\n",
    "    if m == 'No' or m == 'Steady':\n",
    "        return 0\n",
    "    if m == 'Up' or m == 'Down':\n",
    "        return 1\n",
    "\n",
    "def get_diabetes(d):\n",
    "    if d == 'Yes':\n",
    "        return 1\n",
    "    if d == 'No':\n",
    "        return 0\n",
    "\n",
    "def get_ch(c):\n",
    "    if c == 'Ch':\n",
    "        return 1\n",
    "    if c == 'No':\n",
    "        return 0\n",
    "\n",
    "for m in data.columns[25:48]:\n",
    "    data[m] = data[m].apply(get_medicine)\n",
    "data['diabetesMed'] = data['diabetesMed'].apply(get_diabetes)\n",
    "data['change'] = data['change'].apply(get_ch)"
   ]
  },
  {
   "cell_type": "markdown",
   "id": "11c63010",
   "metadata": {},
   "source": [
    "## Scaling features"
   ]
  },
  {
   "cell_type": "code",
   "execution_count": 36,
   "id": "5409549f",
   "metadata": {},
   "outputs": [],
   "source": [
    "def logfunc(m):\n",
    "    return math.log(m+1)\n",
    "\n",
    "data['num_medications'] = data['num_medications'].apply(logfunc)\n",
    "data['num_procedures'] = data['num_procedures'].apply(logfunc)\n",
    "data['num_lab_procedures'] = data['num_lab_procedures'].apply(logfunc)\n",
    "data['number_diagnoses'] = data['number_diagnoses'].apply(logfunc)\n",
    "data['number_emergency'] = data['number_emergency'].apply(logfunc)\n",
    "data['number_inpatient'] = data['number_inpatient'].apply(logfunc)\n",
    "data['number_outpatient'] = data['number_outpatient'].apply(logfunc)\n",
    "data['time_in_hospital'] = data['time_in_hospital'].apply(logfunc)"
   ]
  },
  {
   "cell_type": "markdown",
   "id": "296205f7",
   "metadata": {},
   "source": [
    "## Extract new features"
   ]
  },
  {
   "cell_type": "code",
   "execution_count": 37,
   "id": "3fd36494",
   "metadata": {},
   "outputs": [],
   "source": [
    "data['total_services'] = data['number_inpatient'] + data['number_outpatient'] + data['number_emergency']\n",
    "data['change_meds'] = np.sum([data[m] for m in data.columns[25:48]],axis=0)\n"
   ]
  },
  {
   "cell_type": "markdown",
   "id": "c83428e9",
   "metadata": {},
   "source": [
    "## Map extra information"
   ]
  },
  {
   "cell_type": "code",
   "execution_count": 38,
   "id": "03c5339b",
   "metadata": {},
   "outputs": [],
   "source": [
    "admission_type = {\n",
    "    'Emergency': 1,\n",
    "    'Urgent': 2,\n",
    "    'Elective': 3,\n",
    "    'Newborn': 4,\n",
    "    'Not available': 5,\n",
    "    '': 6,\n",
    "    'Trauma Center': 7,\n",
    "    'Not Mapped': 8\n",
    "}\n",
    "admission_type_reverse = {}\n",
    "\n",
    "for key in admission_type:\n",
    "    admission_type_reverse[admission_type[key]] = key\n",
    "    \n",
    "data['admission_type_id'] = data['admission_type_id'].replace(admission_type['Urgent'], admission_type['Emergency']) # Urgent -> emergency\n",
    "data['admission_type_id'] = data['admission_type_id'].replace(admission_type['Trauma Center'],admission_type['Emergency']) # Trauma -> emergency\n",
    "data['admission_type_id'] = data['admission_type_id'].replace(admission_type[''],admission_type['Not available']) # Not available\n",
    "data['admission_type_id'] = data['admission_type_id'].replace(admission_type['Not Mapped'],admission_type['Not available']) # Not available\n"
   ]
  },
  {
   "cell_type": "code",
   "execution_count": 39,
   "id": "53cf8a98",
   "metadata": {},
   "outputs": [],
   "source": [
    "discharge_map = {\n",
    "    'Discharged home': 1,\n",
    "    'Discharged to short term hospital': 2,\n",
    "    'Discharged to skilled nursing facility': 3,\n",
    "    'Discharged to intermediate care facility': 4,\n",
    "    'Discharged to inpatient care institution': 5,\n",
    "    'Discharged to home with home health service': 6,\n",
    "    'Left against medical advice': 7,\n",
    "    'Discharged to home under HOME IV provider': 8,\n",
    "    'Admitted as inpatient to this hospital': 9,\n",
    "    'Neonate discharged': 10,\n",
    "    'Expired': 11,\n",
    "    'Still patient': 12,\n",
    "    'Hospice at home': 13,\n",
    "    'Hospice at facility': 14,\n",
    "    'Transferred to swing bed': 15,\n",
    "    'Discharged to another institution for outpatient services': 16,\n",
    "    'Discharged to this institution for outpatient services': 17,\n",
    "    '': 18,\n",
    "    'Expired in home': 19,\n",
    "    'Expired in facility': 20,\n",
    "    'Expired in unknown place': 21,\n",
    "    'Discharged to rehab': 22,\n",
    "    'Transferred to long-term hospital': 23,\n",
    "    'Discharged to Medicaid but not Medicare-certified facility': 24,\n",
    "    'Not mapped': 25,\n",
    "    'Unknown/Invalid': 26,\n",
    "    'Discharged to federal health care facility': 27,\n",
    "    'Discharged to psychiatric hospital': 28,\n",
    "    'Discharged to CAH': 29,\n",
    "    'Discharged to other health care institution': 30\n",
    "}\n",
    "\n",
    "\n",
    "discharge_map_reverse = {}\n",
    "\n",
    "for key in discharge_map:\n",
    "    discharge_map_reverse[discharge_map[key]] = key\n",
    "\n",
    "\n",
    "data['discharge_disposition_id'] = data['discharge_disposition_id'].replace(6,1) # home w/ health services -> home\n",
    "data['discharge_disposition_id'] = data['discharge_disposition_id'].replace(8,1) # \n",
    "data['discharge_disposition_id'] = data['discharge_disposition_id'].replace(9,1)\n",
    "data['discharge_disposition_id'] = data['discharge_disposition_id'].replace(13,1)\n",
    "data['discharge_disposition_id'] = data['discharge_disposition_id'].replace(3,2)\n",
    "data['discharge_disposition_id'] = data['discharge_disposition_id'].replace(4,2)\n",
    "data['discharge_disposition_id'] = data['discharge_disposition_id'].replace(5,2)\n",
    "data['discharge_disposition_id'] = data['discharge_disposition_id'].replace(14,2)\n",
    "data['discharge_disposition_id'] = data['discharge_disposition_id'].replace(22,2)\n",
    "data['discharge_disposition_id'] = data['discharge_disposition_id'].replace(23,2)\n",
    "data['discharge_disposition_id'] = data['discharge_disposition_id'].replace(24,2)\n",
    "data['discharge_disposition_id'] = data['discharge_disposition_id'].replace(12,10)\n",
    "data['discharge_disposition_id'] = data['discharge_disposition_id'].replace(15,10)\n",
    "data['discharge_disposition_id'] = data['discharge_disposition_id'].replace(16,10)\n",
    "data['discharge_disposition_id'] = data['discharge_disposition_id'].replace(17,10)\n",
    "data['discharge_disposition_id'] = data['discharge_disposition_id'].replace(25,18)\n",
    "data['discharge_disposition_id'] = data['discharge_disposition_id'].replace(26,18)"
   ]
  },
  {
   "cell_type": "code",
   "execution_count": 40,
   "id": "031f9900",
   "metadata": {},
   "outputs": [],
   "source": [
    "admission_source = {\n",
    "    'Physician referral': 1,\n",
    "    'Clinic referral': 2,\n",
    "    'HMO Referral': 3,\n",
    "    'Transfer from hospital': 4,\n",
    "    'Transfer from skilled nursing facility': 5,\n",
    "    'Transfer from another health facility': 6,\n",
    "    'Emergency Room': 7,\n",
    "    'Law enforcement': 8,\n",
    "    'Not available': 9,\n",
    "    'Transfer from critical access hospital': 10,\n",
    "    'Normal delivery': 11,\n",
    "    'Premature delivery': 12,\n",
    "    'Sick baby': 13,\n",
    "    'Extramural birth': 14,\n",
    "    'Not available': 15,\n",
    "    '': 17,\n",
    "    'Transfer from another home health agency': 18,\n",
    "    'Readmission to same home health agency': 19,\n",
    "    'Not mapped': 20,\n",
    "    'Unknown/Invalid': 21,\n",
    "    'Transfer from hospital inpatient': 22,\n",
    "    'Born inside this hospital': 23,\n",
    "    'Born outside this hospital': 24,\n",
    "    'Transfer from ambulatory surgery center': 25,\n",
    "    'Transfer from hospice': 26\n",
    "}\n",
    "\n",
    "admission_source_reverse = {}\n",
    "\n",
    "for key in admission_source:\n",
    "    admission_source_reverse[admission_source[key]] = key\n",
    "\n",
    "\n",
    "data['admission_source_id'] = data['admission_source_id'].replace(2,1)\n",
    "data['admission_source_id'] = data['admission_source_id'].replace(3,1)\n",
    "data['admission_source_id'] = data['admission_source_id'].replace(5,4)\n",
    "data['admission_source_id'] = data['admission_source_id'].replace(6,4)\n",
    "data['admission_source_id'] = data['admission_source_id'].replace(10,4)\n",
    "data['admission_source_id'] = data['admission_source_id'].replace(22,4)\n",
    "data['admission_source_id'] = data['admission_source_id'].replace(25,4)\n",
    "data['admission_source_id'] = data['admission_source_id'].replace(15,9)\n",
    "data['admission_source_id'] = data['admission_source_id'].replace(17,9)\n",
    "data['admission_source_id'] = data['admission_source_id'].replace(20,9)\n",
    "data['admission_source_id'] = data['admission_source_id'].replace(21,9)\n",
    "data['admission_source_id'] = data['admission_source_id'].replace(13,11)\n",
    "data['admission_source_id'] = data['admission_source_id'].replace(14,11)"
   ]
  },
  {
   "cell_type": "markdown",
   "id": "90ad2cc4",
   "metadata": {},
   "source": [
    "## One Hot Encoding"
   ]
  },
  {
   "cell_type": "code",
   "execution_count": 41,
   "id": "6af8a66e",
   "metadata": {},
   "outputs": [],
   "source": [
    "from sklearn.preprocessing import MultiLabelBinarizer\n",
    "def multi_encode(cols):\n",
    "    to_encode = data[cols].apply(list, axis=1)\n",
    "    mlb = MultiLabelBinarizer()\n",
    "    return pd.DataFrame(mlb.fit_transform(to_encode),\n",
    "                   columns=mlb.classes_,\n",
    "                   index=to_encode.index)\n",
    "diagnosis_cols = ['diagnosis_1', 'diagnosis_2', 'diagnosis_3']\n",
    "diabetes_cols = ['diabetes_type_1', 'diabetes_type_2', 'diabetes_type_3']\n",
    "data = data.join(multi_encode(diagnosis_cols).add_prefix('diagnosis_'))\n",
    "data = data.join(multi_encode(diabetes_cols).add_prefix('diabetes_'))\n",
    "cat_vars = ['race', 'gender', 'admission_type_id', 'discharge_disposition_id', 'admission_source_id', 'medical_specialty', 'max_glu_serum', 'A1Cresult']\n",
    "for var in cat_vars:\n",
    "    data = data.join(pd.get_dummies(data[var], prefix=var))\n",
    "    data = data.drop(var, axis=1)"
   ]
  },
  {
   "cell_type": "code",
   "execution_count": 42,
   "id": "763074f3",
   "metadata": {},
   "outputs": [
    {
     "data": {
      "text/plain": [
       "['index',\n",
       " 'encounter_id',\n",
       " 'patient_nbr',\n",
       " 'age',\n",
       " 'weight',\n",
       " 'time_in_hospital',\n",
       " 'payer_code',\n",
       " 'num_lab_procedures',\n",
       " 'num_procedures',\n",
       " 'num_medications',\n",
       " 'number_outpatient',\n",
       " 'number_emergency',\n",
       " 'number_inpatient',\n",
       " 'diag_1',\n",
       " 'diag_2',\n",
       " 'diag_3',\n",
       " 'number_diagnoses',\n",
       " 'metformin',\n",
       " 'repaglinide',\n",
       " 'nateglinide',\n",
       " 'chlorpropamide',\n",
       " 'glimepiride',\n",
       " 'acetohexamide',\n",
       " 'glipizide',\n",
       " 'glyburide',\n",
       " 'tolbutamide',\n",
       " 'pioglitazone',\n",
       " 'rosiglitazone',\n",
       " 'acarbose',\n",
       " 'miglitol',\n",
       " 'troglitazone',\n",
       " 'tolazamide',\n",
       " 'examide',\n",
       " 'citoglipton',\n",
       " 'insulin',\n",
       " 'glyburide-metformin',\n",
       " 'glipizide-metformin',\n",
       " 'glimepiride-pioglitazone',\n",
       " 'metformin-rosiglitazone',\n",
       " 'metformin-pioglitazone',\n",
       " 'change',\n",
       " 'diabetesMed',\n",
       " 'readmitted',\n",
       " 'prev_visits',\n",
       " 'diagnosis_1',\n",
       " 'diagnosis_2',\n",
       " 'diagnosis_3',\n",
       " 'diabetes_type_1',\n",
       " 'diabetes_type_2',\n",
       " 'diabetes_type_3',\n",
       " 'total_services',\n",
       " 'change_meds',\n",
       " 'diagnosis_birth',\n",
       " 'diagnosis_blood',\n",
       " 'diagnosis_congenital',\n",
       " 'diagnosis_diabetes',\n",
       " 'diagnosis_digestive',\n",
       " 'diagnosis_endocrine',\n",
       " 'diagnosis_genitourinary',\n",
       " 'diagnosis_health_contact',\n",
       " 'diagnosis_infectious',\n",
       " 'diagnosis_injury_poisoning',\n",
       " 'diagnosis_long_term',\n",
       " 'diagnosis_mental',\n",
       " 'diagnosis_musculoskeletal',\n",
       " 'diagnosis_neoplasms',\n",
       " 'diagnosis_nervous',\n",
       " 'diagnosis_other',\n",
       " 'diagnosis_respiratory',\n",
       " 'diagnosis_skin',\n",
       " 'diagnosis_symptoms',\n",
       " 'diagnosis_unknown',\n",
       " 'diabetes_hyperosmolarity',\n",
       " 'diabetes_ketoacidosis',\n",
       " 'diabetes_no_complications',\n",
       " 'diabetes_no_diabetes',\n",
       " 'diabetes_nuerological',\n",
       " 'diabetes_ophthalmic',\n",
       " 'diabetes_other',\n",
       " 'diabetes_other_coma',\n",
       " 'diabetes_peripheral',\n",
       " 'diabetes_renal',\n",
       " 'diabetes_unspecificed',\n",
       " 'race_?',\n",
       " 'race_AfricanAmerican',\n",
       " 'race_Asian',\n",
       " 'race_Caucasian',\n",
       " 'race_Hispanic',\n",
       " 'race_Other',\n",
       " 'gender_Female',\n",
       " 'gender_Male',\n",
       " 'gender_Unknown/Invalid',\n",
       " 'admission_type_id_1',\n",
       " 'admission_type_id_3',\n",
       " 'admission_type_id_4',\n",
       " 'admission_type_id_5',\n",
       " 'discharge_disposition_id_1',\n",
       " 'discharge_disposition_id_2',\n",
       " 'discharge_disposition_id_7',\n",
       " 'discharge_disposition_id_10',\n",
       " 'discharge_disposition_id_11',\n",
       " 'discharge_disposition_id_18',\n",
       " 'discharge_disposition_id_19',\n",
       " 'discharge_disposition_id_20',\n",
       " 'discharge_disposition_id_27',\n",
       " 'discharge_disposition_id_28',\n",
       " 'admission_source_id_1',\n",
       " 'admission_source_id_4',\n",
       " 'admission_source_id_7',\n",
       " 'admission_source_id_8',\n",
       " 'admission_source_id_9',\n",
       " 'admission_source_id_11',\n",
       " 'medical_specialty_high_freq',\n",
       " 'medical_specialty_low_freq',\n",
       " 'medical_specialty_missing',\n",
       " 'medical_specialty_neurology',\n",
       " 'medical_specialty_pediatrics',\n",
       " 'medical_specialty_psychic',\n",
       " 'medical_specialty_surgery',\n",
       " 'medical_specialty_ungrouped',\n",
       " 'max_glu_serum_>200',\n",
       " 'max_glu_serum_>300',\n",
       " 'max_glu_serum_None',\n",
       " 'max_glu_serum_Norm',\n",
       " 'A1Cresult_>7',\n",
       " 'A1Cresult_>8',\n",
       " 'A1Cresult_None',\n",
       " 'A1Cresult_Norm']"
      ]
     },
     "execution_count": 42,
     "metadata": {},
     "output_type": "execute_result"
    }
   ],
   "source": [
    "list(data)"
   ]
  },
  {
   "cell_type": "code",
   "execution_count": null,
   "id": "3fb4a4f0",
   "metadata": {},
   "outputs": [],
   "source": []
  },
  {
   "cell_type": "code",
   "execution_count": null,
   "id": "4a8348a5",
   "metadata": {},
   "outputs": [],
   "source": []
  },
  {
   "cell_type": "code",
   "execution_count": null,
   "id": "1cc53a98",
   "metadata": {},
   "outputs": [],
   "source": []
  },
  {
   "cell_type": "code",
   "execution_count": 12,
   "id": "9b28fd69",
   "metadata": {},
   "outputs": [],
   "source": [
    "def getValuesByGroup(tbl, group):\n",
    "    grouped = tbl.groupby(group)\n",
    "    groups = np.unique(tbl[group])\n",
    "    output = {}\n",
    "    for g in groups:\n",
    "        output[g] = grouped.get_group(g)\n",
    "    return output"
   ]
  },
  {
   "cell_type": "code",
   "execution_count": null,
   "id": "6fb20072",
   "metadata": {},
   "outputs": [],
   "source": []
  },
  {
   "cell_type": "code",
   "execution_count": null,
   "id": "7aec1270",
   "metadata": {},
   "outputs": [],
   "source": []
  },
  {
   "cell_type": "code",
   "execution_count": null,
   "id": "0c3c37e3",
   "metadata": {},
   "outputs": [],
   "source": []
  },
  {
   "cell_type": "code",
   "execution_count": null,
   "id": "f0dfe047",
   "metadata": {},
   "outputs": [],
   "source": []
  },
  {
   "cell_type": "code",
   "execution_count": null,
   "id": "76e019d7",
   "metadata": {},
   "outputs": [],
   "source": []
  },
  {
   "cell_type": "code",
   "execution_count": null,
   "id": "8bcbc197",
   "metadata": {},
   "outputs": [],
   "source": []
  },
  {
   "cell_type": "code",
   "execution_count": null,
   "id": "a1f5c3c5",
   "metadata": {},
   "outputs": [],
   "source": []
  },
  {
   "cell_type": "code",
   "execution_count": null,
   "id": "20aa1e92",
   "metadata": {},
   "outputs": [],
   "source": []
  },
  {
   "cell_type": "code",
   "execution_count": null,
   "id": "96dbbe6d",
   "metadata": {},
   "outputs": [],
   "source": []
  },
  {
   "cell_type": "code",
   "execution_count": null,
   "id": "a1ef3770",
   "metadata": {},
   "outputs": [],
   "source": []
  },
  {
   "cell_type": "code",
   "execution_count": null,
   "id": "e2929fe4",
   "metadata": {},
   "outputs": [],
   "source": []
  },
  {
   "cell_type": "code",
   "execution_count": null,
   "id": "3f1d819b",
   "metadata": {},
   "outputs": [],
   "source": []
  }
 ],
 "metadata": {
  "kernelspec": {
   "display_name": "Python 3 (ipykernel)",
   "language": "python",
   "name": "python3"
  },
  "language_info": {
   "codemirror_mode": {
    "name": "ipython",
    "version": 3
   },
   "file_extension": ".py",
   "mimetype": "text/x-python",
   "name": "python",
   "nbconvert_exporter": "python",
   "pygments_lexer": "ipython3",
   "version": "3.10.2"
  }
 },
 "nbformat": 4,
 "nbformat_minor": 5
}
