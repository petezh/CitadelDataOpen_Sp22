{
 "cells": [
  {
   "cell_type": "markdown",
   "id": "d6a018f6",
   "metadata": {},
   "source": [
    "## Imports"
   ]
  },
  {
   "cell_type": "code",
   "execution_count": 523,
   "id": "1693aee0",
   "metadata": {},
   "outputs": [],
   "source": [
    "import matplotlib.pyplot as plt\n",
    "import numpy as np\n",
    "import math\n",
    "import os\n",
    "import pandas as pd\n",
    "import time\n",
    "import seaborn as sns\n",
    "from sklearn import metrics\n",
    "from sklearn.decomposition import PCA\n",
    "from collections import Counter\n",
    "from imblearn.over_sampling import SMOTE"
   ]
  },
  {
   "cell_type": "code",
   "execution_count": 550,
   "id": "ef326dd4",
   "metadata": {},
   "outputs": [],
   "source": [
    "path = '../datasets/diabetes_data_initial.csv'\n",
    "data = pd.read_csv(path)"
   ]
  },
  {
   "cell_type": "markdown",
   "id": "96254252",
   "metadata": {},
   "source": [
    "## Age"
   ]
  },
  {
   "cell_type": "code",
   "execution_count": 551,
   "id": "047594c5",
   "metadata": {},
   "outputs": [],
   "source": [
    "replaceDict = {'[0-10)' : 5,\n",
    "'[10-20)' : 15,\n",
    "'[20-30)' : 25,\n",
    "'[30-40)' : 35,\n",
    "'[40-50)' : 45,\n",
    "'[50-60)' : 55,\n",
    "'[60-70)' : 65,\n",
    "'[70-80)' : 75,\n",
    "'[80-90)' : 85,\n",
    "'[90-100)' : 95}\n",
    "\n",
    "data['age'] = data['age'].apply(lambda x : replaceDict[x])"
   ]
  },
  {
   "cell_type": "markdown",
   "id": "e7d47617",
   "metadata": {},
   "source": [
    "\n",
    "## Patient History"
   ]
  },
  {
   "cell_type": "code",
   "execution_count": 552,
   "id": "a9e45677",
   "metadata": {},
   "outputs": [],
   "source": [
    "data['prev_visits'] = data.groupby('patient_nbr').encounter_id.transform(lambda x: range(len(x)))"
   ]
  },
  {
   "cell_type": "markdown",
   "id": "6aba63aa",
   "metadata": {},
   "source": [
    "## Medical Specialty"
   ]
  },
  {
   "cell_type": "code",
   "execution_count": 553,
   "id": "1b92f8bc",
   "metadata": {},
   "outputs": [],
   "source": [
    "high_frequency = ['InternalMedicine', 'Family/GeneralPractice', 'Cardiology', 'Surgery-General', 'Orthopedics', 'Orthopedics-Reconstructive', 'Emergency/Trauma', 'Urology','ObstetricsandGynecology','Psychiatry','Pulmonology ','Nephrology','Radiologist']\n",
    "low_frequency = ['Surgery-PlasticwithinHeadandNeck','Psychiatry-Addictive','Proctology','Dermatology','SportsMedicine','Speech','Perinatology', 'Neurophysiology','Resident','Pediatrics-Hematology-Oncology','Pediatrics-EmergencyMedicine','Dentistry','DCPTEAM','Psychiatry-Child/Adolescent', 'Pediatrics-Pulmonology','Surgery-Pediatric','AllergyandImmunology','Pediatrics-Neurology','Anesthesiology','Pathology','Cardiology-Pediatric', 'Endocrinology-Metabolism','PhysicianNotFound','Surgery-Colon&Rectal','OutreachServices', 'Surgery-Maxillofacial','Rheumatology','Anesthesiology-Pediatric','Obstetrics','Obsterics&Gynecology-GynecologicOnco']\n",
    "pediatrics = ['Pediatrics','Pediatrics-CriticalCare','Pediatrics-EmergencyMedicine','Pediatrics-Endocrinology','Pediatrics-Hematology-Oncology', 'Pediatrics-Neurology','Pediatrics-Pulmonology', 'Anesthesiology-Pediatric', 'Cardiology-Pediatric', 'Surgery-Pediatric']\n",
    "psychic = ['Psychiatry-Addictive', 'Psychology', 'Psychiatry',  'Psychiatry-Child/Adolescent', 'PhysicalMedicineandRehabilitation', 'Osteopath']\n",
    "neurology = ['Neurology', 'Surgery-Neuro',  'Pediatrics-Neurology', 'Neurophysiology']\n",
    "surgery = ['Surgeon', 'Surgery-Cardiovascular', 'Surgery-Cardiovascular/Thoracic', 'Surgery-Colon&Rectal', 'Surgery-General', 'Surgery-Maxillofacial', 'Surgery-Plastic', 'Surgery-PlasticwithinHeadandNeck',  'Surgery-Thoracic', 'Surgery-Vascular', 'SurgicalSpecialty', 'Podiatry']\n",
    "ungrouped = ['Endocrinology','Gastroenterology','Gynecology','Hematology','Hematology/Oncology','Hospitalist','InfectiousDiseases', 'Oncology','Ophthalmology','Otolaryngology','Pulmonology','Radiology']\n",
    "missing = ['?']\n",
    "\n",
    "def get_specialty_type(specialty):\n",
    "    if specialty in pediatrics : return 'pediatrics'\n",
    "    elif specialty in psychic : return 'psychic'\n",
    "    elif specialty in neurology : return 'neurology'\n",
    "    elif specialty in surgery : return 'surgery'\n",
    "    elif specialty in high_frequency : return 'high_freq'\n",
    "    elif specialty in low_frequency : return 'low_freq'\n",
    "    elif specialty in ungrouped : return 'ungrouped'\n",
    "    elif specialty in missing : return 'missing'\n",
    "\n",
    "data['medical_specialty'] = data['medical_specialty'].apply(get_specialty_type)"
   ]
  },
  {
   "cell_type": "markdown",
   "id": "679b9723",
   "metadata": {},
   "source": [
    "## Diagnoses"
   ]
  },
  {
   "cell_type": "code",
   "execution_count": 554,
   "id": "d6055986",
   "metadata": {},
   "outputs": [],
   "source": [
    "def get_diag(diag):\n",
    "    if '?' in diag: return 'unknown'\n",
    "    if 'V' in diag:  return 'health_contact'\n",
    "    if 'E' in diag: return 'injury_poisoning'\n",
    "    diag_no = int(float(diag))\n",
    "    if diag_no in range(0, 140): return 'infectious'\n",
    "    if diag_no in range(140, 240): return 'neoplasms'\n",
    "    if diag_no == 250: return 'diabetes'\n",
    "    if diag_no in range(251, 260): return 'endocrine'\n",
    "    if diag_no in range(240, 280): return 'long_term'\n",
    "    if diag_no in range(280, 290): return 'blood'\n",
    "    if diag_no in range(290, 320): return 'mental'\n",
    "    if diag_no in range(320, 390): return 'nervous'\n",
    "    if diag_no in range(390, 460): return 'respiratory'\n",
    "    if diag_no in range(520, 580): return 'digestive'\n",
    "    if diag_no in range(580, 630): return 'genitourinary'\n",
    "    if diag_no in range(630, 680): return 'birth'\n",
    "    if diag_no in range(680, 710): return 'skin'\n",
    "    if diag_no in range(710, 740): return 'musculoskeletal'\n",
    "    if diag_no in range(740, 760): return 'congenital'\n",
    "    if diag_no in range(760, 780): return 'prenital'\n",
    "    if diag_no in range(780, 800): return 'symptoms'\n",
    "    if diag_no in range(800, 1000): return 'injury_poisoning'\n",
    "    return 'other'"
   ]
  },
  {
   "cell_type": "code",
   "execution_count": 555,
   "id": "fe9a540e",
   "metadata": {},
   "outputs": [],
   "source": [
    "data['diagnosis_1'] = data['diag_1'].apply(get_diag)\n",
    "data['diagnosis_2'] = data['diag_2'].apply(get_diag)\n",
    "data['diagnosis_3'] = data['diag_3'].apply(get_diag)"
   ]
  },
  {
   "cell_type": "code",
   "execution_count": 556,
   "id": "4a6e3702",
   "metadata": {},
   "outputs": [],
   "source": [
    "def get_diabetes_type(diag):\n",
    "    if 'V' in diag or 'E' in diag or '?' in diag: return 'no_diabetes'\n",
    "    diag_float = round(float(diag),1)\n",
    "    if diag_float == 250.0: return 'no_complications'\n",
    "    if diag_float == 250.1: return 'ketoacidosis'\n",
    "    if diag_float == 250.2: return 'hyperosmolarity'\n",
    "    if diag_float == 250.3: return 'other_coma'\n",
    "    if diag_float == 250.4: return 'renal'\n",
    "    if diag_float == 250.5: return 'ophthalmic'\n",
    "    if diag_float == 250.6: return 'nuerological'\n",
    "    if diag_float == 250.7: return 'peripheral'\n",
    "    if diag_float == 250.8: return 'other'\n",
    "    if diag_float == 250.9: return 'unspecificed'\n",
    "    return 'no_diabetes'"
   ]
  },
  {
   "cell_type": "code",
   "execution_count": 557,
   "id": "5f9cfc4c",
   "metadata": {},
   "outputs": [],
   "source": [
    "data['diabetes_type_1'] = data['diag_1'].apply(get_diabetes_type)\n",
    "data['diabetes_type_2'] = data['diag_2'].apply(get_diabetes_type)\n",
    "data['diabetes_type_3'] = data['diag_3'].apply(get_diabetes_type)"
   ]
  },
  {
   "cell_type": "markdown",
   "id": "9b59084b",
   "metadata": {},
   "source": [
    "## Readmitted"
   ]
  },
  {
   "cell_type": "code",
   "execution_count": 558,
   "id": "80e34359",
   "metadata": {},
   "outputs": [],
   "source": [
    "data['readmitted'] = data['readmitted'].apply(lambda x : 0 if (x == '>30' or x == 'NO') else 1)\n",
    "data = data.reset_index(drop=True)"
   ]
  },
  {
   "cell_type": "markdown",
   "id": "19fa407d",
   "metadata": {},
   "source": [
    "## Treatments and Tests"
   ]
  },
  {
   "cell_type": "code",
   "execution_count": 559,
   "id": "65ef356c",
   "metadata": {},
   "outputs": [],
   "source": [
    "meds_cols = ['metformin', 'repaglinide', 'nateglinide', 'chlorpropamide',\n",
    "       'glimepiride', 'acetohexamide', 'glipizide', 'glyburide', 'tolbutamide',\n",
    "       'pioglitazone', 'rosiglitazone', 'acarbose', 'miglitol', 'troglitazone',\n",
    "       'tolazamide', 'examide', 'citoglipton', 'insulin',\n",
    "       'glyburide-metformin', 'glipizide-metformin',\n",
    "       'glimepiride-pioglitazone', 'metformin-rosiglitazone',\n",
    "       'metformin-pioglitazone']\n",
    "\n",
    "def get_medicine(m):\n",
    "    if m == 'No' or m == 'Steady':\n",
    "        return 0\n",
    "    if m == 'Up' or m == 'Down':\n",
    "        return 1\n",
    "\n",
    "def get_diabetes(d):\n",
    "    if d == 'Yes':\n",
    "        return 1\n",
    "    if d == 'No':\n",
    "        return 0\n",
    "\n",
    "def get_ch(c):\n",
    "    if c == 'Ch':\n",
    "        return 1\n",
    "    if c == 'No':\n",
    "        return 0\n",
    "\n",
    "for m in meds_cols:\n",
    "    data[m] = data[m].apply(get_medicine)\n",
    "data['diabetesMed'] = data['diabetesMed'].apply(get_diabetes)\n",
    "data['change'] = data['change'].apply(get_ch)"
   ]
  },
  {
   "cell_type": "code",
   "execution_count": 560,
   "id": "42f79b8f",
   "metadata": {},
   "outputs": [],
   "source": [
    "def get_pc(p):\n",
    "    if p == '?':\n",
    "        return 'Unknown'\n",
    "    if p == 'MD' or p == 'MC':\n",
    "        return 'Medicare'\n",
    "    if p == 'SP':\n",
    "        return 'SelfPay'\n",
    "    return 'PrivateInsurance'\n",
    "data['payer_code'] = data['payer_code'].apply(get_pc)"
   ]
  },
  {
   "cell_type": "markdown",
   "id": "b3806ff3",
   "metadata": {},
   "source": [
    "## Scaling features"
   ]
  },
  {
   "cell_type": "code",
   "execution_count": 561,
   "id": "68bb2222",
   "metadata": {},
   "outputs": [],
   "source": [
    "def logfunc(m):\n",
    "    return math.log(m+1)\n",
    "\n",
    "data['num_medications'] = data['num_medications'].apply(logfunc)\n",
    "data['num_procedures'] = data['num_procedures'].apply(logfunc)\n",
    "data['num_lab_procedures'] = data['num_lab_procedures'].apply(logfunc)\n",
    "data['number_diagnoses'] = data['number_diagnoses'].apply(logfunc)\n",
    "data['number_emergency'] = data['number_emergency'].apply(logfunc)\n",
    "data['number_inpatient'] = data['number_inpatient'].apply(logfunc)\n",
    "data['number_outpatient'] = data['number_outpatient'].apply(logfunc)\n",
    "data['time_in_hospital'] = data['time_in_hospital'].apply(logfunc)"
   ]
  },
  {
   "cell_type": "markdown",
   "id": "abb608a9",
   "metadata": {},
   "source": [
    "## Extract new features"
   ]
  },
  {
   "cell_type": "code",
   "execution_count": 562,
   "id": "4ca50898",
   "metadata": {},
   "outputs": [],
   "source": [
    "data['total_services'] = data['number_inpatient'] + data['number_outpatient'] + data['number_emergency']\n",
    "data['change_meds'] = np.sum([data[m].astype(int) for m in meds_cols],axis=0)"
   ]
  },
  {
   "cell_type": "markdown",
   "id": "522b5959",
   "metadata": {},
   "source": [
    "## Map extra information"
   ]
  },
  {
   "cell_type": "code",
   "execution_count": 563,
   "id": "8f4ca7cf",
   "metadata": {},
   "outputs": [],
   "source": [
    "admission_type = {\n",
    "    'Emergency': 1,\n",
    "    'Urgent': 2,\n",
    "    'Elective': 3,\n",
    "    'Newborn': 4,\n",
    "    'Not available': 5,\n",
    "    '': 6,\n",
    "    'Trauma Center': 7,\n",
    "    'Not Mapped': 8\n",
    "}\n",
    "admission_type_reverse = {}\n",
    "\n",
    "for key in admission_type:\n",
    "    admission_type_reverse[admission_type[key]] = key\n",
    "    \n",
    "data['admission_type_id'] = data['admission_type_id'].replace(admission_type['Urgent'], admission_type['Emergency']) # Urgent -> emergency\n",
    "data['admission_type_id'] = data['admission_type_id'].replace(admission_type['Trauma Center'],admission_type['Emergency']) # Trauma -> emergency\n",
    "data['admission_type_id'] = data['admission_type_id'].replace(admission_type[''],admission_type['Not available']) # Not available\n",
    "data['admission_type_id'] = data['admission_type_id'].replace(admission_type['Not Mapped'],admission_type['Not available']) # Not available\n",
    "admission_type_concise = {\n",
    "     1: 'Emergency',\n",
    "     3: 'Elective',\n",
    "     4: 'Newborn',\n",
    "     5: 'Unavailable'\n",
    "}\n",
    "data['admission_type'] = data['admission_type_id'].apply(lambda x: admission_type_concise[x])\n",
    "data = data.drop('admission_type_id', axis=1)"
   ]
  },
  {
   "cell_type": "code",
   "execution_count": 564,
   "id": "331ab05f",
   "metadata": {},
   "outputs": [],
   "source": [
    "discharge_map = {\n",
    "    'Discharged home': 1,\n",
    "    'Discharged to short term hospital': 2,\n",
    "    'Discharged to skilled nursing facility': 3,\n",
    "    'Discharged to intermediate care facility': 4,\n",
    "    'Discharged to inpatient care institution': 5,\n",
    "    'Discharged to home with home health service': 6,\n",
    "    'Left against medical advice': 7,\n",
    "    'Discharged to home under HOME IV provider': 8,\n",
    "    'Admitted as inpatient to this hospital': 9,\n",
    "    'Neonate discharged': 10,\n",
    "    'Expired': 11,\n",
    "    'Still patient': 12,\n",
    "    'Hospice at home': 13,\n",
    "    'Hospice at facility': 14,\n",
    "    'Transferred to swing bed': 15,\n",
    "    'Discharged to another institution for outpatient services': 16,\n",
    "    'Discharged to this institution for outpatient services': 17,\n",
    "    '': 18,\n",
    "    'Expired in home': 19,\n",
    "    'Expired in facility': 20,\n",
    "    'Expired in unknown place': 21,\n",
    "    'Discharged to rehab': 22,\n",
    "    'Transferred to long-term hospital': 23,\n",
    "    'Discharged to Medicaid but not Medicare-certified facility': 24,\n",
    "    'Not mapped': 25,\n",
    "    'Unknown/Invalid': 26,\n",
    "    'Discharged to federal health care facility': 27,\n",
    "    'Discharged to psychiatric hospital': 28,\n",
    "    'Discharged to CAH': 29,\n",
    "    'Discharged to other health care institution': 30\n",
    "}\n",
    "\n",
    "\n",
    "discharge_map_reverse = {}\n",
    "\n",
    "for key in discharge_map:\n",
    "    discharge_map_reverse[discharge_map[key]] = key\n",
    "\n",
    "\n",
    "data['discharge_disposition_id'] = data['discharge_disposition_id'].replace(6,1) # home w/ health services -> home\n",
    "data['discharge_disposition_id'] = data['discharge_disposition_id'].replace(8,1) # \n",
    "data['discharge_disposition_id'] = data['discharge_disposition_id'].replace(9,1)\n",
    "data['discharge_disposition_id'] = data['discharge_disposition_id'].replace(13,1)\n",
    "data['discharge_disposition_id'] = data['discharge_disposition_id'].replace(3,2)\n",
    "data['discharge_disposition_id'] = data['discharge_disposition_id'].replace(4,2)\n",
    "data['discharge_disposition_id'] = data['discharge_disposition_id'].replace(5,2)\n",
    "data['discharge_disposition_id'] = data['discharge_disposition_id'].replace(14,2)\n",
    "data['discharge_disposition_id'] = data['discharge_disposition_id'].replace(22,2)\n",
    "data['discharge_disposition_id'] = data['discharge_disposition_id'].replace(23,2)\n",
    "data['discharge_disposition_id'] = data['discharge_disposition_id'].replace(24,2)\n",
    "data['discharge_disposition_id'] = data['discharge_disposition_id'].replace(12,10)\n",
    "data['discharge_disposition_id'] = data['discharge_disposition_id'].replace(15,10)\n",
    "data['discharge_disposition_id'] = data['discharge_disposition_id'].replace(16,10)\n",
    "data['discharge_disposition_id'] = data['discharge_disposition_id'].replace(17,10)\n",
    "data['discharge_disposition_id'] = data['discharge_disposition_id'].replace(25,18)\n",
    "data['discharge_disposition_id'] = data['discharge_disposition_id'].replace(26,18)\n",
    "discharge_disposition_concise = {\n",
    "     1: 'Discharged home',\n",
    "     2: 'Discharged hospital',\n",
    "     7: 'Left AMA',\n",
    "     10: 'Neonate discharged',\n",
    "     11: 'Expired',\n",
    "     18: 'Unavailable',\n",
    "     19: 'Expired in home',\n",
    "     20: 'Expired in facility',\n",
    "     27: 'Discharged federal facility',\n",
    "     28: 'Discharged psychiatric hospital'\n",
    "}\n",
    "\n",
    "data['discharge_disposition'] = data['discharge_disposition_id'].apply(lambda x: discharge_disposition_concise[x])\n",
    "data = data.drop('discharge_disposition_id', axis=1)\n"
   ]
  },
  {
   "cell_type": "code",
   "execution_count": 565,
   "id": "0acfcb6c",
   "metadata": {},
   "outputs": [],
   "source": [
    "admission_source = {\n",
    "    'Physician referral': 1,\n",
    "    'Clinic referral': 2,\n",
    "    'HMO Referral': 3,\n",
    "    'Transfer from hospital': 4,\n",
    "    'Transfer from skilled nursing facility': 5,\n",
    "    'Transfer from another health facility': 6,\n",
    "    'Emergency Room': 7,\n",
    "    'Law enforcement': 8,\n",
    "    'Not available': 9,\n",
    "    'Transfer from critical access hospital': 10,\n",
    "    'Normal delivery': 11,\n",
    "    'Premature delivery': 12,\n",
    "    'Sick baby': 13,\n",
    "    'Extramural birth': 14,\n",
    "    'Not available': 15,\n",
    "    '': 17,\n",
    "    'Transfer from another home health agency': 18,\n",
    "    'Readmission to same home health agency': 19,\n",
    "    'Not mapped': 20,\n",
    "    'Unknown/Invalid': 21,\n",
    "    'Transfer from hospital inpatient': 22,\n",
    "    'Born inside this hospital': 23,\n",
    "    'Born outside this hospital': 24,\n",
    "    'Transfer from ambulatory surgery center': 25,\n",
    "    'Transfer from hospice': 26\n",
    "}\n",
    "\n",
    "admission_source_reverse = {}\n",
    "\n",
    "for key in admission_source:\n",
    "    admission_source_reverse[admission_source[key]] = key\n",
    "\n",
    "\n",
    "data['admission_source_id'] = data['admission_source_id'].replace(2,1)\n",
    "data['admission_source_id'] = data['admission_source_id'].replace(3,1)\n",
    "data['admission_source_id'] = data['admission_source_id'].replace(5,4)\n",
    "data['admission_source_id'] = data['admission_source_id'].replace(6,4)\n",
    "data['admission_source_id'] = data['admission_source_id'].replace(10,4)\n",
    "data['admission_source_id'] = data['admission_source_id'].replace(22,4)\n",
    "data['admission_source_id'] = data['admission_source_id'].replace(25,4)\n",
    "data['admission_source_id'] = data['admission_source_id'].replace(15,9)\n",
    "data['admission_source_id'] = data['admission_source_id'].replace(17,9)\n",
    "data['admission_source_id'] = data['admission_source_id'].replace(20,9)\n",
    "data['admission_source_id'] = data['admission_source_id'].replace(21,9)\n",
    "data['admission_source_id'] = data['admission_source_id'].replace(13,11)\n",
    "data['admission_source_id'] = data['admission_source_id'].replace(14,11)\n",
    "\n",
    "admission_source_concise = {\n",
    "     1: 'Physician referral',\n",
    "     4: 'Transfer hospital',\n",
    "     7: 'Emergency Room',\n",
    "     8: 'Law enforcement',\n",
    "     9: 'Not available',\n",
    "     11: 'Delivery'\n",
    "}\n",
    "data['admission_source'] = data['admission_source_id'].apply(lambda x: admission_source_concise[x])\n",
    "data = data.drop('admission_source_id', axis=1)\n"
   ]
  },
  {
   "cell_type": "markdown",
   "id": "0119be01",
   "metadata": {},
   "source": [
    "## One Hot Encoding"
   ]
  },
  {
   "cell_type": "code",
   "execution_count": 566,
   "id": "cca21b5e",
   "metadata": {},
   "outputs": [],
   "source": [
    "from sklearn.preprocessing import MultiLabelBinarizer\n",
    "def multi_encode(cols):\n",
    "    to_encode = data[cols].apply(list, axis=1)\n",
    "    mlb = MultiLabelBinarizer()\n",
    "    return pd.DataFrame(mlb.fit_transform(to_encode),\n",
    "                   columns=mlb.classes_,\n",
    "                   index=to_encode.index)\n",
    "diagnosis_cols = ['diagnosis_1', 'diagnosis_2', 'diagnosis_3']\n",
    "diabetes_cols = ['diabetes_type_1', 'diabetes_type_2', 'diabetes_type_3']\n",
    "data = data.join(multi_encode(diagnosis_cols).add_prefix('diagnosis_'))\n",
    "data = data.join(multi_encode(diabetes_cols).add_prefix('diabetes_'))"
   ]
  },
  {
   "cell_type": "code",
   "execution_count": 567,
   "id": "10001e2a",
   "metadata": {},
   "outputs": [],
   "source": [
    "data = data.drop(diagnosis_cols, axis=1)\n",
    "data = data.drop(diabetes_cols, axis=1)"
   ]
  },
  {
   "cell_type": "code",
   "execution_count": 570,
   "id": "6a5f71df",
   "metadata": {},
   "outputs": [],
   "source": [
    "cat_vars = ['race', 'gender', 'admission_type', 'discharge_disposition', 'admission_source', 'medical_specialty', 'max_glu_serum', 'A1Cresult']\n",
    "for var in cat_vars:\n",
    "    data = data.join(pd.get_dummies(data[var], prefix=var))\n",
    "    data = data.drop(var, axis=1)"
   ]
  },
  {
   "cell_type": "code",
   "execution_count": 573,
   "id": "59cb39c0",
   "metadata": {},
   "outputs": [],
   "source": [
    "to_drop = ['encounter_id', 'patient_nbr', 'payer_code', 'readmitted', 'diag_1', 'diag_2', 'diag_3', 'weight'] + cat_vars\n",
    "X = data[[c for c in data.columns if c not in to_drop]]\n",
    "y = data['readmitted']"
   ]
  },
  {
   "cell_type": "code",
   "execution_count": 574,
   "id": "24d34ddb",
   "metadata": {},
   "outputs": [],
   "source": [
    "oversample = SMOTE()\n",
    "X, y = oversample.fit_resample(X, y)"
   ]
  },
  {
   "cell_type": "code",
   "execution_count": 575,
   "id": "b365db14",
   "metadata": {},
   "outputs": [],
   "source": [
    "output_df = pd.DataFrame(X)\n",
    "output_df['readmissions'] = y\n",
    "output_df.to_csv('../output/data.csv')"
   ]
  },
  {
   "cell_type": "code",
   "execution_count": 580,
   "id": "6fb20072",
   "metadata": {},
   "outputs": [],
   "source": [
    "from sklearn.linear_model import LogisticRegression\n",
    "from sklearn.model_selection import train_test_split\n",
    "from sklearn.metrics import accuracy_score"
   ]
  },
  {
   "cell_type": "code",
   "execution_count": 589,
   "id": "b9a40472",
   "metadata": {},
   "outputs": [],
   "source": [
    "X_train, X_test, y_train, y_test = train_test_split(X, y, random_state=42)"
   ]
  },
  {
   "cell_type": "code",
   "execution_count": null,
   "id": "f76f1b52",
   "metadata": {},
   "outputs": [],
   "source": []
  },
  {
   "cell_type": "code",
   "execution_count": 592,
   "id": "7aec1270",
   "metadata": {},
   "outputs": [
    {
     "name": "stderr",
     "output_type": "stream",
     "text": [
      "/Users/peterzhang/opt/anaconda3/lib/python3.8/site-packages/sklearn/linear_model/_logistic.py:814: ConvergenceWarning: lbfgs failed to converge (status=1):\n",
      "STOP: TOTAL NO. of ITERATIONS REACHED LIMIT.\n",
      "\n",
      "Increase the number of iterations (max_iter) or scale the data as shown in:\n",
      "    https://scikit-learn.org/stable/modules/preprocessing.html\n",
      "Please also refer to the documentation for alternative solver options:\n",
      "    https://scikit-learn.org/stable/modules/linear_model.html#logistic-regression\n",
      "  n_iter_i = _check_optimize_result(\n"
     ]
    }
   ],
   "source": [
    "clf = LogisticRegression(random_state=0).fit(X_train, y_train)\n",
    "preds = clf.predict(X_test)"
   ]
  },
  {
   "cell_type": "code",
   "execution_count": 593,
   "id": "1f184ad0",
   "metadata": {},
   "outputs": [
    {
     "data": {
      "text/plain": [
       "1.0"
      ]
     },
     "execution_count": 593,
     "metadata": {},
     "output_type": "execute_result"
    }
   ],
   "source": [
    "accuracy_score(preds, y_test)"
   ]
  },
  {
   "cell_type": "code",
   "execution_count": 587,
   "id": "0c3c37e3",
   "metadata": {},
   "outputs": [
    {
     "data": {
      "text/plain": [
       "1.0"
      ]
     },
     "execution_count": 587,
     "metadata": {},
     "output_type": "execute_result"
    }
   ],
   "source": []
  },
  {
   "cell_type": "code",
   "execution_count": null,
   "id": "f0dfe047",
   "metadata": {},
   "outputs": [],
   "source": []
  },
  {
   "cell_type": "code",
   "execution_count": null,
   "id": "76e019d7",
   "metadata": {},
   "outputs": [],
   "source": []
  },
  {
   "cell_type": "code",
   "execution_count": null,
   "id": "8bcbc197",
   "metadata": {},
   "outputs": [],
   "source": []
  },
  {
   "cell_type": "code",
   "execution_count": null,
   "id": "a1f5c3c5",
   "metadata": {},
   "outputs": [],
   "source": []
  },
  {
   "cell_type": "code",
   "execution_count": null,
   "id": "20aa1e92",
   "metadata": {},
   "outputs": [],
   "source": []
  },
  {
   "cell_type": "code",
   "execution_count": null,
   "id": "96dbbe6d",
   "metadata": {},
   "outputs": [],
   "source": []
  },
  {
   "cell_type": "code",
   "execution_count": null,
   "id": "a1ef3770",
   "metadata": {},
   "outputs": [],
   "source": []
  },
  {
   "cell_type": "code",
   "execution_count": null,
   "id": "e2929fe4",
   "metadata": {},
   "outputs": [],
   "source": []
  },
  {
   "cell_type": "code",
   "execution_count": null,
   "id": "3f1d819b",
   "metadata": {},
   "outputs": [],
   "source": []
  }
 ],
 "metadata": {
  "kernelspec": {
   "display_name": "Python 3 (ipykernel)",
   "language": "python",
   "name": "python3"
  },
  "language_info": {
   "codemirror_mode": {
    "name": "ipython",
    "version": 3
   },
   "file_extension": ".py",
   "mimetype": "text/x-python",
   "name": "python",
   "nbconvert_exporter": "python",
   "pygments_lexer": "ipython3",
   "version": "3.8.8"
  }
 },
 "nbformat": 4,
 "nbformat_minor": 5
}
