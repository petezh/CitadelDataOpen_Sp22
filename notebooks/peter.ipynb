{
 "cells": [
  {
   "cell_type": "code",
   "execution_count": 49,
   "id": "0037b3bd",
   "metadata": {},
   "outputs": [
    {
     "name": "stdout",
     "output_type": "stream",
     "text": [
      "Collecting imbalanced-learn\n",
      "  Downloading imbalanced_learn-0.9.0-py3-none-any.whl (199 kB)\n",
      "\u001b[K     |████████████████████████████████| 199 kB 2.2 MB/s eta 0:00:01\n",
      "\u001b[?25hRequirement already satisfied: numpy>=1.14.6 in /Users/peterzhang/opt/anaconda3/lib/python3.8/site-packages (from imbalanced-learn->-r ../requirements.txt (line 1)) (1.20.1)\n",
      "Requirement already satisfied: threadpoolctl>=2.0.0 in /Users/peterzhang/opt/anaconda3/lib/python3.8/site-packages (from imbalanced-learn->-r ../requirements.txt (line 1)) (2.1.0)\n",
      "Requirement already satisfied: joblib>=0.11 in /Users/peterzhang/opt/anaconda3/lib/python3.8/site-packages (from imbalanced-learn->-r ../requirements.txt (line 1)) (1.0.1)\n",
      "Requirement already satisfied: scikit-learn>=1.0.1 in /Users/peterzhang/opt/anaconda3/lib/python3.8/site-packages (from imbalanced-learn->-r ../requirements.txt (line 1)) (1.0.2)\n",
      "Requirement already satisfied: scipy>=1.1.0 in /Users/peterzhang/opt/anaconda3/lib/python3.8/site-packages (from imbalanced-learn->-r ../requirements.txt (line 1)) (1.8.0)\n",
      "Installing collected packages: imbalanced-learn\n",
      "Successfully installed imbalanced-learn-0.9.0\n"
     ]
    }
   ],
   "source": [
    "!pip install -r ../requirements.txt"
   ]
  },
  {
   "cell_type": "markdown",
   "id": "ca4da5df",
   "metadata": {},
   "source": [
    "## Imports"
   ]
  },
  {
   "cell_type": "code",
   "execution_count": 179,
   "id": "1693aee0",
   "metadata": {},
   "outputs": [],
   "source": [
    "import matplotlib.pyplot as plt\n",
    "import numpy as np\n",
    "import math\n",
    "import os\n",
    "import pandas as pd\n",
    "import time\n",
    "import seaborn as sns\n",
    "from sklearn import metrics\n",
    "from sklearn.decomposition import PCA\n",
    "from collections import Counter\n",
    "from imblearn.over_sampling import SMOTE"
   ]
  },
  {
   "cell_type": "markdown",
   "id": "499ee557",
   "metadata": {},
   "source": [
    "## Data"
   ]
  },
  {
   "cell_type": "code",
   "execution_count": 180,
   "id": "ef326dd4",
   "metadata": {},
   "outputs": [],
   "source": [
    "datasetPath = '../datasets/diabetic_data_initial.csv'"
   ]
  },
  {
   "cell_type": "code",
   "execution_count": 181,
   "id": "4a3f2036",
   "metadata": {},
   "outputs": [],
   "source": [
    "data = pd.read_csv(datasetPath)"
   ]
  },
  {
   "cell_type": "markdown",
   "id": "890e0158",
   "metadata": {},
   "source": [
    "## Preprocessing"
   ]
  },
  {
   "cell_type": "markdown",
   "id": "fb30beed",
   "metadata": {},
   "source": [
    "### Age\n",
    "\n",
    "Replace ranges with means."
   ]
  },
  {
   "cell_type": "code",
   "execution_count": 182,
   "id": "047594c5",
   "metadata": {},
   "outputs": [],
   "source": [
    "replace_age = {'[0-10)' : 5,\n",
    "'[10-20)' : 15,\n",
    "'[20-30)' : 25, \n",
    "'[30-40)' : 35, \n",
    "'[40-50)' : 45, \n",
    "'[50-60)' : 55,\n",
    "'[60-70)' : 65, \n",
    "'[70-80)' : 75,\n",
    "'[80-90)' : 85,\n",
    "'[90-100)' : 95}\n",
    "data['age'] = data['age'].apply(lambda x : replace_age[x])"
   ]
  },
  {
   "cell_type": "markdown",
   "id": "92346bee",
   "metadata": {},
   "source": [
    "## Patient History\n",
    "\n",
    "Count previous visits."
   ]
  },
  {
   "cell_type": "code",
   "execution_count": 183,
   "id": "9599fe86",
   "metadata": {},
   "outputs": [],
   "source": [
    "data['prev_visits'] = data.groupby('patient_nbr').encounter_id.transform(lambda x: pd.Series(range(len(x))))"
   ]
  },
  {
   "cell_type": "markdown",
   "id": "63aaeefa",
   "metadata": {},
   "source": [
    "## Medical Specialty\n",
    "\n",
    "Bucket specialities."
   ]
  },
  {
   "cell_type": "code",
   "execution_count": 184,
   "id": "1b92f8bc",
   "metadata": {},
   "outputs": [],
   "source": [
    "high_frequency = ['InternalMedicine', 'Family/GeneralPractice', 'Cardiology', 'Surgery-General', 'Orthopedics', 'Orthopedics-Reconstructive', 'Emergency/Trauma', 'Urology','ObstetricsandGynecology','Psychiatry','Pulmonology ','Nephrology','Radiologist']\n",
    "low_frequency = ['Surgery-PlasticwithinHeadandNeck','Psychiatry-Addictive','Proctology','Dermatology','SportsMedicine','Speech','Perinatology', 'Neurophysiology','Resident','Pediatrics-Hematology-Oncology','Pediatrics-EmergencyMedicine','Dentistry','DCPTEAM','Psychiatry-Child/Adolescent', 'Pediatrics-Pulmonology','Surgery-Pediatric','AllergyandImmunology','Pediatrics-Neurology','Anesthesiology','Pathology','Cardiology-Pediatric', 'Endocrinology-Metabolism','PhysicianNotFound','Surgery-Colon&Rectal','OutreachServices', 'Surgery-Maxillofacial','Rheumatology','Anesthesiology-Pediatric','Obstetrics','Obsterics&Gynecology-GynecologicOnco']\n",
    "pediatrics = ['Pediatrics','Pediatrics-CriticalCare','Pediatrics-EmergencyMedicine','Pediatrics-Endocrinology','Pediatrics-Hematology-Oncology', 'Pediatrics-Neurology','Pediatrics-Pulmonology', 'Anesthesiology-Pediatric', 'Cardiology-Pediatric', 'Surgery-Pediatric']\n",
    "psychic = ['Psychiatry-Addictive', 'Psychology', 'Psychiatry',  'Psychiatry-Child/Adolescent', 'PhysicalMedicineandRehabilitation', 'Osteopath']\n",
    "neurology = ['Neurology', 'Surgery-Neuro',  'Pediatrics-Neurology', 'Neurophysiology']\n",
    "surgery = ['Surgeon', 'Surgery-Cardiovascular', 'Surgery-Cardiovascular/Thoracic', 'Surgery-Colon&Rectal', 'Surgery-General', 'Surgery-Maxillofacial', 'Surgery-Plastic', 'Surgery-PlasticwithinHeadandNeck',  'Surgery-Thoracic', 'Surgery-Vascular', 'SurgicalSpecialty', 'Podiatry']\n",
    "ungrouped = ['Endocrinology','Gastroenterology','Gynecology','Hematology','Hematology/Oncology','Hospitalist','InfectiousDiseases', 'Oncology','Ophthalmology','Otolaryngology','Pulmonology','Radiology']\n",
    "missing = ['?']\n",
    "\n",
    "def get_specialty_type(specialty):\n",
    "    if specialty in pediatrics : return 'pediatrics'\n",
    "    elif specialty in psychic : return 'psychic'\n",
    "    elif specialty in neurology : return 'neurology'\n",
    "    elif specialty in surgery : return 'surgery'\n",
    "    elif specialty in high_frequency : return 'high_freq'\n",
    "    elif specialty in low_frequency : return 'low_freq'\n",
    "    elif specialty in ungrouped : return 'ungrouped'\n",
    "    elif specialty in missing : return 'missing'\n",
    "\n",
    "data['medical_specialty'] = data['medical_specialty'].apply(get_specialty_type)"
   ]
  },
  {
   "cell_type": "markdown",
   "id": "3f1d53aa",
   "metadata": {},
   "source": [
    "## Diagnoses\n",
    "\n",
    "Read diagnoses based off of [AAPC codes](https://www.aapc.com/codes/icd9-codes-range/)."
   ]
  },
  {
   "cell_type": "code",
   "execution_count": 185,
   "id": "fc06dd70",
   "metadata": {},
   "outputs": [],
   "source": [
    "def get_diag(diag):\n",
    "    if '?' in diag: return 'unknown'\n",
    "    if 'V' in diag:  return 'health_contact'\n",
    "    if 'E' in diag: return 'injury_poisoning'\n",
    "    diag_no = int(float(diag))\n",
    "    if diag_no in range(0, 140): return 'infectious'\n",
    "    if diag_no in range(140, 240): return 'neoplasms'\n",
    "    if diag_no == 250: return 'diabetes'\n",
    "    if diag_no in range(251, 260): return 'endocrine'\n",
    "    if diag_no in range(240, 280): return 'long_term'\n",
    "    if diag_no in range(280, 290): return 'blood'\n",
    "    if diag_no in range(290, 320): return 'mental'\n",
    "    if diag_no in range(320, 390): return 'nervous'\n",
    "    if diag_no in range(390, 460): return 'respiratory'\n",
    "    if diag_no in range(520, 580): return 'digestive'\n",
    "    if diag_no in range(580, 630): return 'genitourinary'\n",
    "    if diag_no in range(630, 680): return 'birth'\n",
    "    if diag_no in range(680, 710): return 'skin'\n",
    "    if diag_no in range(710, 740): return 'musculoskeletal'\n",
    "    if diag_no in range(740, 760): return 'congenital'\n",
    "    if diag_no in range(760, 780): return 'prenital'\n",
    "    if diag_no in range(780, 800): return 'symptoms'\n",
    "    if diag_no in range(800, 1000): return 'injury_poisoning'\n",
    "    return 'other'"
   ]
  },
  {
   "cell_type": "code",
   "execution_count": 186,
   "id": "d6055986",
   "metadata": {},
   "outputs": [],
   "source": [
    "data['diagnosis_1'] = data['diag_1'].apply(get_diag)\n",
    "data['diagnosis_2'] = data['diag_2'].apply(get_diag)\n",
    "data['diagnosis_3'] = data['diag_3'].apply(get_diag)"
   ]
  },
  {
   "cell_type": "code",
   "execution_count": 187,
   "id": "5ced2208",
   "metadata": {},
   "outputs": [],
   "source": [
    "def get_diabetes_type(diag):\n",
    "    if 'V' in diag or 'E' in diag or '?' in diag: return 'no_diabetes'\n",
    "    diag_float = round(float(diag),1)\n",
    "    if diag_float == 250.0: return 'no_complications'\n",
    "    if diag_float == 250.1: return 'ketoacidosis'\n",
    "    if diag_float == 250.2: return 'hyperosmolarity'\n",
    "    if diag_float == 250.3: return 'other_coma'\n",
    "    if diag_float == 250.4: return 'renal'\n",
    "    if diag_float == 250.5: return 'ophthalmic'\n",
    "    if diag_float == 250.6: return 'nuerological'\n",
    "    if diag_float == 250.7: return 'peripheral'\n",
    "    if diag_float == 250.8: return 'other'\n",
    "    if diag_float == 250.9: return 'unspecificed'\n",
    "    return 'no_diabetes'"
   ]
  },
  {
   "cell_type": "code",
   "execution_count": 188,
   "id": "574b840e",
   "metadata": {},
   "outputs": [],
   "source": [
    "data['diabetes_type_1'] = data['diag_1'].apply(get_diabetes_type)\n",
    "data['diabetes_type_2'] = data['diag_2'].apply(get_diabetes_type)\n",
    "data['diabetes_type_3'] = data['diag_3'].apply(get_diabetes_type)"
   ]
  },
  {
   "cell_type": "markdown",
   "id": "7dd5f3d7",
   "metadata": {},
   "source": [
    "## Readmitted"
   ]
  },
  {
   "cell_type": "code",
   "execution_count": 189,
   "id": "80e34359",
   "metadata": {},
   "outputs": [],
   "source": [
    "data['readmitted'] = data['readmitted'].apply(lambda x : 0 if (x == '>30' or x == 'NO') else 1)\n",
    "data = data.reset_index()"
   ]
  },
  {
   "cell_type": "markdown",
   "id": "40a58c2a",
   "metadata": {},
   "source": [
    "## Treatments and Tests"
   ]
  },
  {
   "cell_type": "code",
   "execution_count": 190,
   "id": "8a358b02",
   "metadata": {},
   "outputs": [],
   "source": [
    "def get_aic(r):\n",
    "    if r == 'None':\n",
    "        return -1\n",
    "    if r == 'Norm':\n",
    "        return 0\n",
    "    if r == '>7' or r == '>8':\n",
    "        return 1\n",
    "\n",
    "def get_glu(r):\n",
    "    if r == 'None':\n",
    "        return -1\n",
    "    if r == 'Norm':\n",
    "        return 0\n",
    "    if r == '>200' or r == '>300':\n",
    "        return 1\n",
    "\n",
    "def get_medicine(m):\n",
    "    if m == 'No':\n",
    "        return 0\n",
    "    if m == 'Steady' or m == 'Up' or m == 'Down':\n",
    "        return 1\n",
    "    \n",
    "data['A1Cresult'] = data['A1Cresult'].apply(get_aic)\n",
    "data['max_glu_serum'] = data['max_glu_serum'].apply(get_glu)\n",
    "for m in data.columns[25:48]:\n",
    "    data[m] = data[m].apply(get_medicine)"
   ]
  },
  {
   "cell_type": "markdown",
   "id": "a8fa7579",
   "metadata": {},
   "source": [
    "## One-Hot Encoding"
   ]
  },
  {
   "cell_type": "code",
   "execution_count": 191,
   "id": "ca94e50b",
   "metadata": {},
   "outputs": [],
   "source": [
    "from sklearn.preprocessing import MultiLabelBinarizer"
   ]
  },
  {
   "cell_type": "code",
   "execution_count": 193,
   "id": "9f4fb211",
   "metadata": {},
   "outputs": [],
   "source": [
    "def multi_encode(cols):\n",
    "    to_encode = data[cols].apply(list, axis=1)\n",
    "    mlb = MultiLabelBinarizer()\n",
    "    return pd.DataFrame(mlb.fit_transform(to_encode),\n",
    "                   columns=mlb.classes_,\n",
    "                   index=to_encode.index)"
   ]
  },
  {
   "cell_type": "code",
   "execution_count": 194,
   "id": "d5587a14",
   "metadata": {},
   "outputs": [],
   "source": [
    "diagnosis_cols = ['diagnosis_1', 'diagnosis_2', 'diagnosis_3']\n",
    "diabetes_cols = ['diabetes_type_1', 'diabetes_type_2', 'diabetes_type_3']\n",
    "data = data.join(multi_encode(diagnosis_cols).add_prefix('diagnosis_'))\n",
    "data = data.join(multi_encode(diabetes_cols).add_prefix('diabetes_'))"
   ]
  },
  {
   "cell_type": "code",
   "execution_count": 120,
   "id": "f8a09c63",
   "metadata": {},
   "outputs": [],
   "source": [
    "cat_vars = ['race', 'gender']\n",
    "for var in cat_vars:\n",
    "    data = data.join(pd.get_dummies(data[var], prefix=var))\n",
    "    data = data.drop(var, axis=1)"
   ]
  },
  {
   "cell_type": "code",
   "execution_count": null,
   "id": "c9ada291",
   "metadata": {},
   "outputs": [],
   "source": []
  },
  {
   "cell_type": "code",
   "execution_count": 78,
   "id": "94a0e9a7",
   "metadata": {},
   "outputs": [],
   "source": [
    "X = data[[col for col in data.columns if col != 'readmitted']].to_numpy()\n",
    "y = data['readmitted'].to_numpy()"
   ]
  },
  {
   "cell_type": "code",
   "execution_count": 79,
   "id": "3f1d819b",
   "metadata": {},
   "outputs": [
    {
     "ename": "ValueError",
     "evalue": "could not convert string to float: 'Caucasian'",
     "output_type": "error",
     "traceback": [
      "\u001b[0;31m---------------------------------------------------------------------------\u001b[0m",
      "\u001b[0;31mValueError\u001b[0m                                Traceback (most recent call last)",
      "\u001b[0;32m<ipython-input-79-ab710243e7c4>\u001b[0m in \u001b[0;36m<module>\u001b[0;34m\u001b[0m\n\u001b[1;32m      1\u001b[0m \u001b[0moversample\u001b[0m \u001b[0;34m=\u001b[0m \u001b[0mSMOTE\u001b[0m\u001b[0;34m(\u001b[0m\u001b[0;34m)\u001b[0m\u001b[0;34m\u001b[0m\u001b[0;34m\u001b[0m\u001b[0m\n\u001b[0;32m----> 2\u001b[0;31m \u001b[0mX\u001b[0m\u001b[0;34m,\u001b[0m \u001b[0my\u001b[0m \u001b[0;34m=\u001b[0m \u001b[0moversample\u001b[0m\u001b[0;34m.\u001b[0m\u001b[0mfit_resample\u001b[0m\u001b[0;34m(\u001b[0m\u001b[0mX\u001b[0m\u001b[0;34m,\u001b[0m \u001b[0my\u001b[0m\u001b[0;34m)\u001b[0m\u001b[0;34m\u001b[0m\u001b[0;34m\u001b[0m\u001b[0m\n\u001b[0m",
      "\u001b[0;32m~/opt/anaconda3/lib/python3.8/site-packages/imblearn/base.py\u001b[0m in \u001b[0;36mfit_resample\u001b[0;34m(self, X, y)\u001b[0m\n\u001b[1;32m     75\u001b[0m         \u001b[0mcheck_classification_targets\u001b[0m\u001b[0;34m(\u001b[0m\u001b[0my\u001b[0m\u001b[0;34m)\u001b[0m\u001b[0;34m\u001b[0m\u001b[0;34m\u001b[0m\u001b[0m\n\u001b[1;32m     76\u001b[0m         \u001b[0marrays_transformer\u001b[0m \u001b[0;34m=\u001b[0m \u001b[0mArraysTransformer\u001b[0m\u001b[0;34m(\u001b[0m\u001b[0mX\u001b[0m\u001b[0;34m,\u001b[0m \u001b[0my\u001b[0m\u001b[0;34m)\u001b[0m\u001b[0;34m\u001b[0m\u001b[0;34m\u001b[0m\u001b[0m\n\u001b[0;32m---> 77\u001b[0;31m         \u001b[0mX\u001b[0m\u001b[0;34m,\u001b[0m \u001b[0my\u001b[0m\u001b[0;34m,\u001b[0m \u001b[0mbinarize_y\u001b[0m \u001b[0;34m=\u001b[0m \u001b[0mself\u001b[0m\u001b[0;34m.\u001b[0m\u001b[0m_check_X_y\u001b[0m\u001b[0;34m(\u001b[0m\u001b[0mX\u001b[0m\u001b[0;34m,\u001b[0m \u001b[0my\u001b[0m\u001b[0;34m)\u001b[0m\u001b[0;34m\u001b[0m\u001b[0;34m\u001b[0m\u001b[0m\n\u001b[0m\u001b[1;32m     78\u001b[0m \u001b[0;34m\u001b[0m\u001b[0m\n\u001b[1;32m     79\u001b[0m         self.sampling_strategy_ = check_sampling_strategy(\n",
      "\u001b[0;32m~/opt/anaconda3/lib/python3.8/site-packages/imblearn/base.py\u001b[0m in \u001b[0;36m_check_X_y\u001b[0;34m(self, X, y, accept_sparse)\u001b[0m\n\u001b[1;32m    130\u001b[0m             \u001b[0maccept_sparse\u001b[0m \u001b[0;34m=\u001b[0m \u001b[0;34m[\u001b[0m\u001b[0;34m\"csr\"\u001b[0m\u001b[0;34m,\u001b[0m \u001b[0;34m\"csc\"\u001b[0m\u001b[0;34m]\u001b[0m\u001b[0;34m\u001b[0m\u001b[0;34m\u001b[0m\u001b[0m\n\u001b[1;32m    131\u001b[0m         \u001b[0my\u001b[0m\u001b[0;34m,\u001b[0m \u001b[0mbinarize_y\u001b[0m \u001b[0;34m=\u001b[0m \u001b[0mcheck_target_type\u001b[0m\u001b[0;34m(\u001b[0m\u001b[0my\u001b[0m\u001b[0;34m,\u001b[0m \u001b[0mindicate_one_vs_all\u001b[0m\u001b[0;34m=\u001b[0m\u001b[0;32mTrue\u001b[0m\u001b[0;34m)\u001b[0m\u001b[0;34m\u001b[0m\u001b[0;34m\u001b[0m\u001b[0m\n\u001b[0;32m--> 132\u001b[0;31m         \u001b[0mX\u001b[0m\u001b[0;34m,\u001b[0m \u001b[0my\u001b[0m \u001b[0;34m=\u001b[0m \u001b[0mself\u001b[0m\u001b[0;34m.\u001b[0m\u001b[0m_validate_data\u001b[0m\u001b[0;34m(\u001b[0m\u001b[0mX\u001b[0m\u001b[0;34m,\u001b[0m \u001b[0my\u001b[0m\u001b[0;34m,\u001b[0m \u001b[0mreset\u001b[0m\u001b[0;34m=\u001b[0m\u001b[0;32mTrue\u001b[0m\u001b[0;34m,\u001b[0m \u001b[0maccept_sparse\u001b[0m\u001b[0;34m=\u001b[0m\u001b[0maccept_sparse\u001b[0m\u001b[0;34m)\u001b[0m\u001b[0;34m\u001b[0m\u001b[0;34m\u001b[0m\u001b[0m\n\u001b[0m\u001b[1;32m    133\u001b[0m         \u001b[0;32mreturn\u001b[0m \u001b[0mX\u001b[0m\u001b[0;34m,\u001b[0m \u001b[0my\u001b[0m\u001b[0;34m,\u001b[0m \u001b[0mbinarize_y\u001b[0m\u001b[0;34m\u001b[0m\u001b[0;34m\u001b[0m\u001b[0m\n\u001b[1;32m    134\u001b[0m \u001b[0;34m\u001b[0m\u001b[0m\n",
      "\u001b[0;32m~/opt/anaconda3/lib/python3.8/site-packages/sklearn/base.py\u001b[0m in \u001b[0;36m_validate_data\u001b[0;34m(self, X, y, reset, validate_separately, **check_params)\u001b[0m\n\u001b[1;32m    579\u001b[0m                 \u001b[0my\u001b[0m \u001b[0;34m=\u001b[0m \u001b[0mcheck_array\u001b[0m\u001b[0;34m(\u001b[0m\u001b[0my\u001b[0m\u001b[0;34m,\u001b[0m \u001b[0;34m**\u001b[0m\u001b[0mcheck_y_params\u001b[0m\u001b[0;34m)\u001b[0m\u001b[0;34m\u001b[0m\u001b[0;34m\u001b[0m\u001b[0m\n\u001b[1;32m    580\u001b[0m             \u001b[0;32melse\u001b[0m\u001b[0;34m:\u001b[0m\u001b[0;34m\u001b[0m\u001b[0;34m\u001b[0m\u001b[0m\n\u001b[0;32m--> 581\u001b[0;31m                 \u001b[0mX\u001b[0m\u001b[0;34m,\u001b[0m \u001b[0my\u001b[0m \u001b[0;34m=\u001b[0m \u001b[0mcheck_X_y\u001b[0m\u001b[0;34m(\u001b[0m\u001b[0mX\u001b[0m\u001b[0;34m,\u001b[0m \u001b[0my\u001b[0m\u001b[0;34m,\u001b[0m \u001b[0;34m**\u001b[0m\u001b[0mcheck_params\u001b[0m\u001b[0;34m)\u001b[0m\u001b[0;34m\u001b[0m\u001b[0;34m\u001b[0m\u001b[0m\n\u001b[0m\u001b[1;32m    582\u001b[0m             \u001b[0mout\u001b[0m \u001b[0;34m=\u001b[0m \u001b[0mX\u001b[0m\u001b[0;34m,\u001b[0m \u001b[0my\u001b[0m\u001b[0;34m\u001b[0m\u001b[0;34m\u001b[0m\u001b[0m\n\u001b[1;32m    583\u001b[0m \u001b[0;34m\u001b[0m\u001b[0m\n",
      "\u001b[0;32m~/opt/anaconda3/lib/python3.8/site-packages/sklearn/utils/validation.py\u001b[0m in \u001b[0;36mcheck_X_y\u001b[0;34m(X, y, accept_sparse, accept_large_sparse, dtype, order, copy, force_all_finite, ensure_2d, allow_nd, multi_output, ensure_min_samples, ensure_min_features, y_numeric, estimator)\u001b[0m\n\u001b[1;32m    962\u001b[0m         \u001b[0;32mraise\u001b[0m \u001b[0mValueError\u001b[0m\u001b[0;34m(\u001b[0m\u001b[0;34m\"y cannot be None\"\u001b[0m\u001b[0;34m)\u001b[0m\u001b[0;34m\u001b[0m\u001b[0;34m\u001b[0m\u001b[0m\n\u001b[1;32m    963\u001b[0m \u001b[0;34m\u001b[0m\u001b[0m\n\u001b[0;32m--> 964\u001b[0;31m     X = check_array(\n\u001b[0m\u001b[1;32m    965\u001b[0m         \u001b[0mX\u001b[0m\u001b[0;34m,\u001b[0m\u001b[0;34m\u001b[0m\u001b[0;34m\u001b[0m\u001b[0m\n\u001b[1;32m    966\u001b[0m         \u001b[0maccept_sparse\u001b[0m\u001b[0;34m=\u001b[0m\u001b[0maccept_sparse\u001b[0m\u001b[0;34m,\u001b[0m\u001b[0;34m\u001b[0m\u001b[0;34m\u001b[0m\u001b[0m\n",
      "\u001b[0;32m~/opt/anaconda3/lib/python3.8/site-packages/sklearn/utils/validation.py\u001b[0m in \u001b[0;36mcheck_array\u001b[0;34m(array, accept_sparse, accept_large_sparse, dtype, order, copy, force_all_finite, ensure_2d, allow_nd, ensure_min_samples, ensure_min_features, estimator)\u001b[0m\n\u001b[1;32m    744\u001b[0m                     \u001b[0marray\u001b[0m \u001b[0;34m=\u001b[0m \u001b[0marray\u001b[0m\u001b[0;34m.\u001b[0m\u001b[0mastype\u001b[0m\u001b[0;34m(\u001b[0m\u001b[0mdtype\u001b[0m\u001b[0;34m,\u001b[0m \u001b[0mcasting\u001b[0m\u001b[0;34m=\u001b[0m\u001b[0;34m\"unsafe\"\u001b[0m\u001b[0;34m,\u001b[0m \u001b[0mcopy\u001b[0m\u001b[0;34m=\u001b[0m\u001b[0;32mFalse\u001b[0m\u001b[0;34m)\u001b[0m\u001b[0;34m\u001b[0m\u001b[0;34m\u001b[0m\u001b[0m\n\u001b[1;32m    745\u001b[0m                 \u001b[0;32melse\u001b[0m\u001b[0;34m:\u001b[0m\u001b[0;34m\u001b[0m\u001b[0;34m\u001b[0m\u001b[0m\n\u001b[0;32m--> 746\u001b[0;31m                     \u001b[0marray\u001b[0m \u001b[0;34m=\u001b[0m \u001b[0mnp\u001b[0m\u001b[0;34m.\u001b[0m\u001b[0masarray\u001b[0m\u001b[0;34m(\u001b[0m\u001b[0marray\u001b[0m\u001b[0;34m,\u001b[0m \u001b[0morder\u001b[0m\u001b[0;34m=\u001b[0m\u001b[0morder\u001b[0m\u001b[0;34m,\u001b[0m \u001b[0mdtype\u001b[0m\u001b[0;34m=\u001b[0m\u001b[0mdtype\u001b[0m\u001b[0;34m)\u001b[0m\u001b[0;34m\u001b[0m\u001b[0;34m\u001b[0m\u001b[0m\n\u001b[0m\u001b[1;32m    747\u001b[0m             \u001b[0;32mexcept\u001b[0m \u001b[0mComplexWarning\u001b[0m \u001b[0;32mas\u001b[0m \u001b[0mcomplex_warning\u001b[0m\u001b[0;34m:\u001b[0m\u001b[0;34m\u001b[0m\u001b[0;34m\u001b[0m\u001b[0m\n\u001b[1;32m    748\u001b[0m                 raise ValueError(\n",
      "\u001b[0;32m~/opt/anaconda3/lib/python3.8/site-packages/numpy/core/_asarray.py\u001b[0m in \u001b[0;36masarray\u001b[0;34m(a, dtype, order, like)\u001b[0m\n\u001b[1;32m    100\u001b[0m         \u001b[0;32mreturn\u001b[0m \u001b[0m_asarray_with_like\u001b[0m\u001b[0;34m(\u001b[0m\u001b[0ma\u001b[0m\u001b[0;34m,\u001b[0m \u001b[0mdtype\u001b[0m\u001b[0;34m=\u001b[0m\u001b[0mdtype\u001b[0m\u001b[0;34m,\u001b[0m \u001b[0morder\u001b[0m\u001b[0;34m=\u001b[0m\u001b[0morder\u001b[0m\u001b[0;34m,\u001b[0m \u001b[0mlike\u001b[0m\u001b[0;34m=\u001b[0m\u001b[0mlike\u001b[0m\u001b[0;34m)\u001b[0m\u001b[0;34m\u001b[0m\u001b[0;34m\u001b[0m\u001b[0m\n\u001b[1;32m    101\u001b[0m \u001b[0;34m\u001b[0m\u001b[0m\n\u001b[0;32m--> 102\u001b[0;31m     \u001b[0;32mreturn\u001b[0m \u001b[0marray\u001b[0m\u001b[0;34m(\u001b[0m\u001b[0ma\u001b[0m\u001b[0;34m,\u001b[0m \u001b[0mdtype\u001b[0m\u001b[0;34m,\u001b[0m \u001b[0mcopy\u001b[0m\u001b[0;34m=\u001b[0m\u001b[0;32mFalse\u001b[0m\u001b[0;34m,\u001b[0m \u001b[0morder\u001b[0m\u001b[0;34m=\u001b[0m\u001b[0morder\u001b[0m\u001b[0;34m)\u001b[0m\u001b[0;34m\u001b[0m\u001b[0;34m\u001b[0m\u001b[0m\n\u001b[0m\u001b[1;32m    103\u001b[0m \u001b[0;34m\u001b[0m\u001b[0m\n\u001b[1;32m    104\u001b[0m \u001b[0;34m\u001b[0m\u001b[0m\n",
      "\u001b[0;31mValueError\u001b[0m: could not convert string to float: 'Caucasian'"
     ]
    }
   ],
   "source": [
    "oversample = SMOTE()\n",
    "X, y = oversample.fit_resample(X, y)"
   ]
  },
  {
   "cell_type": "code",
   "execution_count": null,
   "id": "39048c0f",
   "metadata": {},
   "outputs": [],
   "source": []
  }
 ],
 "metadata": {
  "kernelspec": {
   "display_name": "Python 3 (ipykernel)",
   "language": "python",
   "name": "python3"
  },
  "language_info": {
   "codemirror_mode": {
    "name": "ipython",
    "version": 3
   },
   "file_extension": ".py",
   "mimetype": "text/x-python",
   "name": "python",
   "nbconvert_exporter": "python",
   "pygments_lexer": "ipython3",
   "version": "3.8.8"
  }
 },
 "nbformat": 4,
 "nbformat_minor": 5
}
